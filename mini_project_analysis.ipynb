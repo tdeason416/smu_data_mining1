{
 "cells": [
  {
   "cell_type": "markdown",
   "metadata": {},
   "source": [
    "## Predicting Kickstarter Success\n",
    "\n",
    "### MSDS 7331-404: Mini Project 1\n",
    "Travis Deason  \n",
    "Michael Landrum  \n",
    "Vanessa Torres  "
   ]
  },
  {
   "cell_type": "code",
   "execution_count": 1,
   "metadata": {},
   "outputs": [
    {
     "name": "stdout",
     "output_type": "stream",
     "text": [
      "UTF-8\n"
     ]
    }
   ],
   "source": [
    "import pandas as pd\n",
    "import numpy as np\n",
    "import matplotlib.pyplot as plt\n",
    "import seaborn as sns\n",
    "import re\n",
    "import scipy.stats as scs\n",
    "%matplotlib inline\n",
    "plt.style.use('ggplot')\n",
    "sns.set(style=\"whitegrid\", palette=\"pastel\", color_codes=True)\n",
    "\n",
    "import sys\n",
    "\n",
    "print(sys.stdout.encoding)"
   ]
  },
  {
   "cell_type": "markdown",
   "metadata": {},
   "source": [
    "Data Source:\n",
    "\n",
    "https://www.kaggle.com/kemical/kickstarter-projects\n",
    "\n",
    "### Intro to our data set\n",
    "\n",
    "The success of a Kickstarter projects may have some association with variables like goal, number of backers, amount of money pledged, and a few other key features.  This study focuses on producing a model that could help determine those said features in order to help predict the success of a Kickstarter project. The methodology includes brainstorming, data exploration and multidimensional data analysis. The following models could be helpful in determining and improving the success rate of Kickstarter projects\n",
    "\n",
    "The dataset we used is a list of Kaggle reports compiled in February 2018.  It contains a total of 378661 individual observations, and reports if each of those individual project were successful or failed.  The benefit of understanding this dataset is that it would put you, as the investor, in a stronger position to decide which Kickstarters are more likely to be successful, and which are likely to fail.\n",
    "\n",
    "We are going to use logarithmic regression and SVM to predict whether kickstarters will succeed."
   ]
  },
  {
   "cell_type": "markdown",
   "metadata": {},
   "source": [
    "# Create Models"
   ]
  },
  {
   "cell_type": "markdown",
   "metadata": {},
   "source": [
    "Our data set has a few categorical variables with many levels. So the first thing we need to do is create dummy variables for each level in all the category variables.\n",
    "\n",
    "** In order to run this notebook, you must first navigate to the src folder within the github directory and run the PYTHON file extract_features.py** \n",
    "\n",
    "**This will create the file: '\"data_with_dummies_and_class.csv\" using \"imputed.csv\" as a basis**\n",
    "> **IT TAKES ABOUT 15 MIN TO RUN extract_features.py **\n",
    "\n",
    "Update: To circumvent this process, you can now download the csv with the dummy variables from an S3."
   ]
  },
  {
   "cell_type": "code",
   "execution_count": 2,
   "metadata": {},
   "outputs": [],
   "source": [
    "try:\n",
    "    data= pd.read_csv('data/data_with_dummies_and_class.csv')\n",
    "except FileNotFoundError:\n",
    "    data = pd.read_csv(\"https://s3-us-west-2.amazonaws.com/twisk.us/data_with_dummies_and_class.csv\")\n",
    "    data.to_csv('data/data_with_dummies_and_class.csv', index=False)"
   ]
  },
  {
   "cell_type": "code",
   "execution_count": 3,
   "metadata": {},
   "outputs": [],
   "source": [
    "data = data[[x for x in data.columns if \"Unnamed\" not in x]]"
   ]
  },
  {
   "cell_type": "code",
   "execution_count": 4,
   "metadata": {},
   "outputs": [],
   "source": [
    "unique_cols = list(set(x.split('&')[0] for x in data.columns))"
   ]
  },
  {
   "cell_type": "code",
   "execution_count": 5,
   "metadata": {},
   "outputs": [],
   "source": [
    "df_nocats = data[[x for x in data.columns if x.split('&')[0] != 'category']]"
   ]
  },
  {
   "cell_type": "code",
   "execution_count": 6,
   "metadata": {},
   "outputs": [],
   "source": [
    "def p_func(df):\n",
    "    ooot = {}\n",
    "    for col in df.columns:\n",
    "        if '$' in col:\n",
    "            value = ooot.get(col.split('$')[0], [])\n",
    "            ooot[col.split('$')[0]] = value + [col.split('$')[1]]\n",
    "        elif '&' in col:\n",
    "            value = ooot.get(col.split('&')[0], [])\n",
    "            ooot[col.split('&')[0]] = value + [col.split('&')[1]]\n",
    "        else: \n",
    "            ooot[col] = ''\n",
    "    return ooot"
   ]
  },
  {
   "cell_type": "code",
   "execution_count": 7,
   "metadata": {},
   "outputs": [
    {
     "name": "stdout",
     "output_type": "stream",
     "text": [
      "id\n",
      "backers\n",
      "usd_pledged_real\n",
      "usd_goal_real\n",
      "log_goal\n",
      "duration\n",
      "success\n",
      "log_backers\n",
      "log_usd_goal_real\n",
      "log_usd_pledged_real\n",
      "log_duration\n",
      "isUS\n",
      "name\n",
      "\t> word_count\n",
      "\t> punc_count\n",
      "\t> caps_count\n",
      "\t> possesive_count\n",
      "\t> noun_count\n",
      "\t> adj_count\n",
      "\t> verb_count\n",
      "\t> preposition_count\n",
      "\t> determinator_count\n",
      "main_category\n",
      "\t> Publishing\n",
      "\t> Film \n",
      "\t> Music\n",
      "\t> Food\n",
      "\t> Design\n",
      "\t> Crafts\n",
      "\t> Games\n",
      "\t> Comics\n",
      "\t> Fashion\n",
      "\t> Theater\n",
      "\t> Art\n",
      "\t> Photography\n",
      "\t> Technology\n",
      "\t> Dance\n",
      "\t> Journalism\n",
      "country\n",
      "\t> GB\n",
      "\t> US\n",
      "\t> CA\n",
      "\t> AU\n",
      "\t> NO\n",
      "\t> IT\n",
      "\t> DE\n",
      "\t> IE\n",
      "\t> MX\n",
      "\t> ES\n",
      "\t> N,0\"\n",
      "\t> SE\n",
      "\t> FR\n",
      "\t> NL\n",
      "\t> NZ\n",
      "\t> CH\n",
      "\t> AT\n",
      "\t> DK\n",
      "\t> BE\n",
      "\t> HK\n",
      "\t> LU\n",
      "\t> SG\n",
      "\t> JP\n",
      "currency\n",
      "\t> GBP\n",
      "\t> USD\n",
      "\t> CAD\n",
      "\t> AUD\n",
      "\t> NOK\n",
      "\t> EUR\n",
      "\t> MXN\n",
      "\t> SEK\n",
      "\t> NZD\n",
      "\t> CHF\n",
      "\t> DKK\n",
      "\t> HKD\n",
      "\t> SGD\n",
      "\t> JPY\n",
      "length\n",
      "deadline_month\n",
      "\t> Oct\n",
      "\t> Nov\n",
      "\t> Feb\n",
      "\t> Apr\n",
      "\t> Aug\n",
      "\t> Dec\n",
      "\t> Mar\n",
      "\t> May\n",
      "\t> Jun\n",
      "\t> Sep\n",
      "\t> Jan\n",
      "\t> Jul\n",
      "launched_month\n",
      "\t> Aug\n",
      "\t> Sep\n",
      "\t> Jan\n",
      "\t> Mar\n",
      "\t> Jul\n",
      "\t> Feb\n",
      "\t> Dec\n",
      "\t> Apr\n",
      "\t> Oct\n",
      "\t> May\n",
      "\t> Nov\n",
      "\t> Jun\n"
     ]
    }
   ],
   "source": [
    "for k,v in p_func(df_nocats).items():\n",
    "    print(k)\n",
    "    if type(v) is list:\n",
    "        for i in v:\n",
    "            print('\\t>', i)"
   ]
  },
  {
   "cell_type": "code",
   "execution_count": 8,
   "metadata": {},
   "outputs": [],
   "source": [
    "dff = df_nocats.drop('''country&N,0\"''',axis=1)  ##.dropna()    name$ all have 1 na\n",
    "\n",
    "name = ['name$word_count','name$punc_count','name$caps_count','name$possesive_count','name$noun_count',\n",
    "       'name$adj_count','name$verb_count','name$preposition_count','name$determinator_count']\n",
    "main_cat = ['main_category&Publishing','main_category&Film & Video','main_category&Music',\n",
    "           'main_category&Food','main_category&Design','main_category&Crafts','main_category&Games',\n",
    "           'main_category&Comics','main_category&Fashion','main_category&Theater','main_category&Art',\n",
    "           'main_category&Photography','main_category&Technology','main_category&Dance','main_category&Journalism']\n",
    "\n",
    "## creating new data frames with just the dummy variables so we can add/subtract them in the future easily\n",
    "dff_name = dff[name]\n",
    "dff_main_cat = dff[main_cat]\n",
    "\n",
    "dff = dff.dropna()"
   ]
  },
  {
   "cell_type": "code",
   "execution_count": 9,
   "metadata": {},
   "outputs": [
    {
     "name": "stdout",
     "output_type": "stream",
     "text": [
      "19\n"
     ]
    }
   ],
   "source": [
    "main_features = p_func(dff).keys()\n",
    "print(len(main_features))"
   ]
  },
  {
   "cell_type": "markdown",
   "metadata": {},
   "source": [
    "## We will run logistic regression on all our features. \n",
    "\n",
    "From there we will tweak our model to try and increase our prediction accuracy."
   ]
  },
  {
   "cell_type": "code",
   "execution_count": 10,
   "metadata": {
    "collapsed": true
   },
   "outputs": [],
   "source": [
    "from sklearn import linear_model as lm\n",
    "from sklearn import svm as svm"
   ]
  },
  {
   "cell_type": "code",
   "execution_count": 11,
   "metadata": {
    "collapsed": true
   },
   "outputs": [],
   "source": [
    "## creating arrays for train/test set indices\n",
    "train_idx = np.random.random(dff.shape[0]) < .8    \n",
    "test_idx = train_idx == False"
   ]
  },
  {
   "cell_type": "code",
   "execution_count": 12,
   "metadata": {},
   "outputs": [],
   "source": [
    "## train and test y vector\n",
    "ytr = dff.iloc[train_idx].pop('success')      \n",
    "yte = dff.iloc[test_idx].pop('success')\n",
    "y = dff.pop('success')"
   ]
  },
  {
   "cell_type": "code",
   "execution_count": 13,
   "metadata": {
    "collapsed": true
   },
   "outputs": [],
   "source": [
    "## train and test X matrix\n",
    "Xtr = dff.iloc[train_idx][[col for col in dff.columns if  col != 'success']]\n",
    "Xte = dff.iloc[test_idx][[col for col in dff.columns if  col != 'success']]\n",
    "X = dff[[col for col in dff.columns if  col != 'success']]"
   ]
  },
  {
   "cell_type": "code",
   "execution_count": 14,
   "metadata": {},
   "outputs": [
    {
     "name": "stdout",
     "output_type": "stream",
     "text": [
      "accuracy 0.642557569043\n",
      "confusion matrix\n",
      " [[48406     0]\n",
      " [27102   314]]\n"
     ]
    }
   ],
   "source": [
    "# run logistic regression and vary some parameters\n",
    "from sklearn.linear_model import LogisticRegression\n",
    "from sklearn import metrics as mt\n",
    "\n",
    "lr_clf = LogisticRegression(penalty='l2', C=1.0, class_weight=None) # get object\n",
    "\n",
    "lr_clf.fit(Xtr,ytr)  # train object\n",
    "y_hat = lr_clf.predict(Xte) # get test set precitions\n",
    "\n",
    "acc = mt.accuracy_score(yte,y_hat)\n",
    "conf = mt.confusion_matrix(yte,y_hat)\n",
    "print(\"accuracy\", acc )\n",
    "print(\"confusion matrix\\n\",conf)"
   ]
  },
  {
   "cell_type": "markdown",
   "metadata": {},
   "source": [
    "This was not as accurate as we'd like. We'll remove all the dummy variables we created and see if we can improve it by adding or subtracting them in."
   ]
  },
  {
   "cell_type": "code",
   "execution_count": 15,
   "metadata": {},
   "outputs": [],
   "source": [
    "## log regression without any of the categorical variables\n",
    "\n",
    "data_imp = pd.read_csv('data/imputed.csv')\n",
    "cat_column = ['name','category','currency','deadline','launched','state','country',\"main_category\"]\n",
    "\n",
    "data_imp.drop(cat_column, inplace=True, axis=1)"
   ]
  },
  {
   "cell_type": "code",
   "execution_count": 16,
   "metadata": {},
   "outputs": [],
   "source": [
    "## creating a function that will output accuracy percentage and confusion matrix for different subsets of features\n",
    "\n",
    "def log_regression(df):\n",
    "    train_idx = np.random.random(df.shape[0]) < .8    \n",
    "    test_idx = train_idx == False\n",
    "\n",
    "    ytr = df.iloc[train_idx].pop('success')\n",
    "    yte = df.iloc[test_idx].pop('success')\n",
    "\n",
    "    Xtr = df.iloc[train_idx][[col for col in df.columns if  col != 'success']]\n",
    "    Xte = df.iloc[test_idx][[col for col in df.columns if  col != 'success']]\n",
    "\n",
    "    lr_clf = LogisticRegression(penalty='l2', C=1.0, class_weight=None) # get object\n",
    "\n",
    "    lr_clf.fit(Xtr,ytr)  # train object\n",
    "    y_hat = lr_clf.predict(Xte) # get test set precitions\n",
    "\n",
    "    acc = mt.accuracy_score(yte,y_hat)\n",
    "    conf = mt.confusion_matrix(yte,y_hat)\n",
    "    print(\"accuracy\", acc )\n",
    "    print(\"confusion matrix\\n\",conf)\n"
   ]
  },
  {
   "cell_type": "code",
   "execution_count": 17,
   "metadata": {},
   "outputs": [
    {
     "name": "stdout",
     "output_type": "stream",
     "text": [
      "accuracy 0.650473980254\n",
      "confusion matrix\n",
      " [[49263     3]\n",
      " [26655   348]]\n"
     ]
    }
   ],
   "source": [
    "log_regression(data_imp)\n",
    "\n",
    "## marginally better, could be due to randomness"
   ]
  },
  {
   "cell_type": "code",
   "execution_count": 18,
   "metadata": {},
   "outputs": [
    {
     "name": "stdout",
     "output_type": "stream",
     "text": [
      "accuracy 0.651170488851\n",
      "confusion matrix\n",
      " [[48885     3]\n",
      " [26342   294]]\n"
     ]
    }
   ],
   "source": [
    "## all numerical variables + word information\n",
    "\n",
    "df = pd.concat([data_imp,dff_name]).dropna()\n",
    "\n",
    "log_regression(data_imp)\n",
    "\n",
    "## marginally better"
   ]
  },
  {
   "cell_type": "code",
   "execution_count": 19,
   "metadata": {},
   "outputs": [
    {
     "name": "stdout",
     "output_type": "stream",
     "text": [
      "accuracy 0.647592655827\n",
      "confusion matrix\n",
      " [[48996     4]\n",
      " [26829   313]]\n"
     ]
    }
   ],
   "source": [
    "## all numerical variables + main_cat or type of project\n",
    "\n",
    "df = pd.concat([data_imp,dff_main_cat]).dropna()\n",
    "\n",
    "log_regression(data_imp)\n",
    "\n",
    "## very marginally better than last"
   ]
  },
  {
   "cell_type": "code",
   "execution_count": 20,
   "metadata": {},
   "outputs": [
    {
     "name": "stdout",
     "output_type": "stream",
     "text": [
      "accuracy 0.652062231049\n",
      "confusion matrix\n",
      " [[48924     5]\n",
      " [26273   323]]\n"
     ]
    }
   ],
   "source": [
    "## all numerical + name + main_cat\n",
    "\n",
    "df = pd.concat([data_imp,dff_name,dff_main_cat]).dropna()\n",
    "\n",
    "log_regression(data_imp)\n",
    "\n",
    "## marginally worse"
   ]
  },
  {
   "cell_type": "markdown",
   "metadata": {},
   "source": [
    "### The simplest model.\n",
    "\n",
    "The next model includes only the amount of backers, the kickstarter's donation goal, and the actual pledge dollars."
   ]
  },
  {
   "cell_type": "code",
   "execution_count": 21,
   "metadata": {},
   "outputs": [
    {
     "name": "stdout",
     "output_type": "stream",
     "text": [
      "accuracy 0.985326659642\n",
      "confusion matrix\n",
      " [[48101  1114]\n",
      " [    0 26705]]\n"
     ]
    }
   ],
   "source": [
    "df_basic = data_imp[['backers','log_usd_goal_real','log_usd_pledged_real','success']]\n",
    "\n",
    "log_regression(df_basic)"
   ]
  },
  {
   "cell_type": "markdown",
   "metadata": {},
   "source": [
    "# Model Advantages\n",
    "\n",
    "Using the above model, since it's the most accurate, we'll compare Logistic Regression and a model using stochastic gradient descent."
   ]
  },
  {
   "cell_type": "code",
   "execution_count": 49,
   "metadata": {},
   "outputs": [
    {
     "name": "stderr",
     "output_type": "stream",
     "text": [
      "/Users/michael/anaconda3/lib/python3.6/site-packages/sklearn/linear_model/stochastic_gradient.py:117: DeprecationWarning: n_iter parameter is deprecated in 0.19 and will be removed in 0.21. Use max_iter and tol instead.\n",
      "  DeprecationWarning)\n"
     ]
    },
    {
     "name": "stdout",
     "output_type": "stream",
     "text": [
      "SVM: 0.911499532753\n",
      "CPU times: user 266 ms, sys: 21.7 ms, total: 288 ms\n",
      "Wall time: 286 ms\n"
     ]
    }
   ],
   "source": [
    "%%time\n",
    "# use some compact notation for creating a linear SVM classifier with stichastic descent\n",
    "from sklearn.linear_model import SGDClassifier\n",
    "\n",
    "regularize_const = 0.1\n",
    "iterations = 5\n",
    "svm_sgd = SGDClassifier(alpha=regularize_const,\n",
    "        fit_intercept=True, l1_ratio=0.0, learning_rate='optimal',\n",
    "        loss='hinge', n_iter=iterations, n_jobs=-1, penalty='l2')\n",
    "\n",
    "scl = StandardScaler()\n",
    "\n",
    "svm_sgd.fit(scl.fit_transform(X[train_idx]),y[train_idx])\n",
    "yhat = svm_sgd.predict(scl.transform(X[test_idx]))\n",
    "    \n",
    "conf = mt.confusion_matrix(y[test_idx],yhat)\n",
    "acc = mt.accuracy_score(y[test_idx],yhat)\n",
    "\n",
    "print('SVM:', acc)"
   ]
  },
  {
   "cell_type": "code",
   "execution_count": 50,
   "metadata": {},
   "outputs": [
    {
     "name": "stderr",
     "output_type": "stream",
     "text": [
      "/Users/michael/anaconda3/lib/python3.6/site-packages/sklearn/linear_model/stochastic_gradient.py:117: DeprecationWarning: n_iter parameter is deprecated in 0.19 and will be removed in 0.21. Use max_iter and tol instead.\n",
      "  DeprecationWarning)\n"
     ]
    },
    {
     "name": "stdout",
     "output_type": "stream",
     "text": [
      "Logistic Regression: 0.981099543283\n",
      "CPU times: user 324 ms, sys: 18.3 ms, total: 342 ms\n",
      "Wall time: 341 ms\n"
     ]
    }
   ],
   "source": [
    "%%time\n",
    "# use some compact notation for creating a logistic regression classifier with stochastic descent\n",
    "log_sgd = SGDClassifier(alpha=regularize_const,\n",
    "        fit_intercept=True, l1_ratio=0.0, learning_rate='optimal',\n",
    "        loss='log', n_iter=iterations, n_jobs=-1, penalty='l2')\n",
    "\n",
    "scl = StandardScaler()\n",
    "\n",
    "log_sgd.fit(scl.fit_transform(X[train_idx]),y[train_idx])\n",
    "yhat = log_sgd.predict(scl.transform(X[test_idx]))\n",
    "    \n",
    "conf = mt.confusion_matrix(y[test_idx],yhat)\n",
    "acc = mt.accuracy_score(y[test_idx],yhat)\n",
    "\n",
    "print('Logistic Regression:', acc)"
   ]
  },
  {
   "cell_type": "markdown",
   "metadata": {},
   "source": [
    "For our purposes, we'll want to use logistic regression. While using stochastic gradient descent is faster (by a about 50 ms), the logistic regression model is more accurate. The timing difference isn't enough to make up for the accuracy difference."
   ]
  },
  {
   "cell_type": "markdown",
   "metadata": {},
   "source": [
    "# Interpret Feature Importance\n",
    "\n",
    "In this section we'll just look at the model with 3 features, as it performed the best."
   ]
  },
  {
   "cell_type": "code",
   "execution_count": 42,
   "metadata": {},
   "outputs": [
    {
     "name": "stdout",
     "output_type": "stream",
     "text": [
      "backers has weight of -0.000114250656376\n",
      "log_usd_goal_real has weight of -14.8232562955\n",
      "log_usd_pledged_real has weight of 15.0196182335\n"
     ]
    }
   ],
   "source": [
    "## using the model df_basic model\n",
    "df = df_basic\n",
    "\n",
    "train_idx = np.random.random(df.shape[0]) < .8    \n",
    "test_idx = train_idx == False\n",
    "\n",
    "ytr = df.iloc[train_idx].pop('success')\n",
    "yte = df.iloc[test_idx].pop('success')\n",
    "y = df.pop('success')\n",
    "\n",
    "Xtr = df.iloc[train_idx][[col for col in df.columns if  col != 'success']]\n",
    "Xte = df.iloc[test_idx][[col for col in df.columns if  col != 'success']]\n",
    "X = df[[col for col in df.columns if  col != 'success']]\n",
    "\n",
    "lr_clf = LogisticRegression(penalty='l2', C=1.0, class_weight=None) # get object\n",
    "\n",
    "lr_clf.fit(Xtr,ytr)\n",
    "\n",
    "# iterate over the coefficients\n",
    "weights = lr_clf.coef_.T # take transpose to make a column vector\n",
    "variable_names = df.columns\n",
    "for coef, name in zip(weights,variable_names):\n",
    "    print(name, 'has weight of', coef[0])\n"
   ]
  },
  {
   "cell_type": "code",
   "execution_count": 43,
   "metadata": {},
   "outputs": [
    {
     "name": "stdout",
     "output_type": "stream",
     "text": [
      "accuracy: 0.982678968635\n",
      "[[47951  1316]\n",
      " [    0 26710]]\n",
      "log_usd_goal_real has weight of -7.67276796564\n",
      "backers has weight of -0.0407142795854\n",
      "log_usd_pledged_real has weight of 15.157849975\n"
     ]
    }
   ],
   "source": [
    "from sklearn.preprocessing import StandardScaler\n",
    "\n",
    "# we want to normalize the features based upon the mean and standard deviation of each column. \n",
    "# However, we do not want to accidentally use the testing data to find out the mean and std (this would be snooping)\n",
    "# to Make things easier, let's start by just using whatever was last stored in the variables:\n",
    "##    X_train , y_train , X_test, y_test (they were set in a for loop above)\n",
    "\n",
    "# scale attributes by the training set\n",
    "scl_obj = StandardScaler()\n",
    "scl_obj.fit(Xtr) # find scalings for each column that make this zero mean and unit std\n",
    "# the line of code above only looks at training data to get mean and std and we can use it \n",
    "# to transform new feature data\n",
    "\n",
    "X_train_scaled = scl_obj.transform(Xtr) # apply to training\n",
    "X_test_scaled = scl_obj.transform(Xte) # apply those means and std to the test set (without snooping at the test set values)\n",
    "\n",
    "# train the model just as before\n",
    "lr_clf = LogisticRegression(penalty='l2', C=0.05) # get object, the 'C' value is less (can you guess why??)\n",
    "lr_clf.fit(X_train_scaled,ytr)  # train object\n",
    "\n",
    "y_hat = lr_clf.predict(X_test_scaled) # get test set precitions\n",
    "\n",
    "acc = mt.accuracy_score(yte,y_hat)\n",
    "conf = mt.confusion_matrix(yte,y_hat)\n",
    "print('accuracy:', acc )\n",
    "print(conf )\n",
    "\n",
    "# sort these attributes and spit them out\n",
    "zip_vars = zip(lr_clf.coef_.T,df.columns) # combine attributes\n",
    "zip_vars = sorted(zip_vars)\n",
    "for coef, name in zip_vars:\n",
    "    print(name, 'has weight of', coef[0]) # now print them out"
   ]
  },
  {
   "cell_type": "markdown",
   "metadata": {},
   "source": [
    "As we know, the weights aren't necessarily interpretable before we normalize, but after we did we can see the amount of money pledged to the kickstarter is about twice as important as the goal amount. The opposing directions makes sense. The more money a kickstarter wants for their goal, the less likely they are to reach their goal. Whereas, the more money they receive, the more likely they are to succeed.\n",
    "\n",
    "The backers has only a small weight so it's poredictive power is not as strong in our model as you can see from the bar chart below."
   ]
  },
  {
   "cell_type": "code",
   "execution_count": 24,
   "metadata": {},
   "outputs": [
    {
     "data": {
      "image/png": "[encoded data removed]",
      "text/plain": [
       "<matplotlib.figure.Figure at 0x1a5a50b6d8>"
      ]
     },
     "metadata": {},
     "output_type": "display_data"
    }
   ],
   "source": [
    "from matplotlib import pyplot as plt\n",
    "%matplotlib inline\n",
    "plt.style.use('ggplot')\n",
    "\n",
    "\n",
    "weights = pd.Series(lr_clf.coef_[0],index=df[['backers','log_usd_goal_real','log_usd_pledged_real']].columns)\n",
    "weights.plot(kind='bar')\n",
    "plt.show()"
   ]
  },
  {
   "cell_type": "markdown",
   "metadata": {},
   "source": [
    "# Interpret Support Vectors\n",
    "\n",
    "Below code may take a couple minutes to run."
   ]
  },
  {
   "cell_type": "code",
   "execution_count": 52,
   "metadata": {},
   "outputs": [
    {
     "name": "stdout",
     "output_type": "stream",
     "text": [
      "accuracy: 0.988351738026\n",
      "[[48382   885]\n",
      " [    0 26710]]\n"
     ]
    }
   ],
   "source": [
    "from sklearn.model_selection import ShuffleSplit\n",
    "from sklearn.svm import SVC\n",
    "\n",
    "X_train_scaled = scl_obj.transform(Xtr) # apply to training\n",
    "X_test_scaled = scl_obj.transform(Xte) \n",
    "\n",
    "svm_clf = SVC(C=0.5, kernel='linear', degree=3, gamma='auto') # get object\n",
    "svm_clf.fit(X_train_scaled, ytr)  # train object\n",
    "\n",
    "y_hat = svm_clf.predict(X_test_scaled) # get test set precitions\n",
    "\n",
    "acc = mt.accuracy_score(yte,y_hat)\n",
    "conf = mt.confusion_matrix(yte,y_hat)\n",
    "print('accuracy:', acc )\n",
    "print(conf)"
   ]
  },
  {
   "cell_type": "code",
   "execution_count": 53,
   "metadata": {},
   "outputs": [
    {
     "name": "stdout",
     "output_type": "stream",
     "text": [
      "(12741, 3)\n",
      "(12741,)\n",
      "[6368 6373]\n"
     ]
    }
   ],
   "source": [
    "print(svm_clf.support_vectors_.shape)\n",
    "print(svm_clf.support_.shape)\n",
    "print(svm_clf.n_support_ )"
   ]
  },
  {
   "cell_type": "code",
   "execution_count": 54,
   "metadata": {},
   "outputs": [
    {
     "name": "stdout",
     "output_type": "stream",
     "text": [
      "[[ -0.03578046  -6.58772728  12.90028996]]\n"
     ]
    },
    {
     "data": {
      "text/plain": [
       "<matplotlib.axes._subplots.AxesSubplot at 0x1a212a67b8>"
      ]
     },
     "execution_count": 54,
     "metadata": {},
     "output_type": "execute_result"
    },
    {
     "data": {
      "image/png": "[encoded data removed]",
      "text/plain": [
       "<matplotlib.figure.Figure at 0x1a21ccdef0>"
      ]
     },
     "metadata": {},
     "output_type": "display_data"
    }
   ],
   "source": [
    "print(svm_clf.coef_)\n",
    "weights = pd.Series(svm_clf.coef_[0],index=df[['backers','log_usd_goal_real','log_usd_pledged_real']].columns)\n",
    "weights.plot(kind='bar')"
   ]
  },
  {
   "cell_type": "code",
   "execution_count": 57,
   "metadata": {},
   "outputs": [
    {
     "name": "stderr",
     "output_type": "stream",
     "text": [
      "/Users/michael/anaconda3/lib/python3.6/site-packages/pandas/core/indexing.py:517: SettingWithCopyWarning: \n",
      "A value is trying to be set on a copy of a slice from a DataFrame.\n",
      "Try using .loc[row_indexer,col_indexer] = value instead\n",
      "\n",
      "See the caveats in the documentation: http://pandas.pydata.org/pandas-docs/stable/indexing.html#indexing-view-versus-copy\n",
      "  self.obj[item] = s\n"
     ]
    }
   ],
   "source": [
    "# make a dataframe of the training data\n",
    "df_tested_on = df.iloc[train_idx] # saved from above, the indices chosen for training\n",
    "# now get the support vectors from the trained model\n",
    "df_support = df_tested_on.iloc[svm_clf.support_,:]\n",
    "\n",
    "df_support.loc[:,'success'] = y[svm_clf.support_] # add back in the 'success' Column to the pandas dataframe\n",
    "df.loc[:,'success'] = y # also add it back in for the original data\n",
    "#df_support.info()"
   ]
  },
  {
   "cell_type": "code",
   "execution_count": 56,
   "metadata": {},
   "outputs": [
    {
     "data": {
      "image/png": "[encoded data removed]",
      "text/plain": [
       "<matplotlib.figure.Figure at 0x1a32879898>"
      ]
     },
     "metadata": {},
     "output_type": "display_data"
    },
    {
     "data": {
      "image/png": "[encoded data removed]",
      "text/plain": [
       "<matplotlib.figure.Figure at 0x1a5a718f60>"
      ]
     },
     "metadata": {},
     "output_type": "display_data"
    },
    {
     "data": {
      "image/png": "[encoded data removed]",
      "text/plain": [
       "<matplotlib.figure.Figure at 0x1a238b6438>"
      ]
     },
     "metadata": {},
     "output_type": "display_data"
    }
   ],
   "source": [
    "from pandas.tools.plotting import boxplot\n",
    "\n",
    "# group the original data and the support vectors\n",
    "df_grouped_support = df_support.groupby(['success'])\n",
    "df_grouped = df.groupby(['success'])\n",
    "\n",
    "# plot KDE of Different variables\n",
    "vars_to_plot = ['backers','log_usd_goal_real','log_usd_pledged_real']\n",
    "\n",
    "for v in vars_to_plot:\n",
    "    plt.figure(figsize=(10,4))\n",
    "    # plot support vector stats\n",
    "    plt.subplot(1,2,1)\n",
    "    ax = df_grouped_support[v].plot.kde() \n",
    "    plt.legend(['failed','succeeded'])\n",
    "    plt.title(v+' (Instances chosen as SVs)')\n",
    "    \n",
    "    # plot original distributions\n",
    "    plt.subplot(1,2,2)\n",
    "    ax = df_grouped[v].plot.kde() \n",
    "    plt.legend(['failed','succeeded'])\n",
    "    plt.title(v+' (Original)')\n"
   ]
  },
  {
   "cell_type": "markdown",
   "metadata": {},
   "source": [
    "So the analysis here is basically telling us what the original statistics of the data looked like, and also what the statistics of the support vectors looked like. We can see that the separation in distributions is not as great as the separation for the original data. This is because the support vectors tend to be instances on the edge of the class boundaries and also instances that are classified incorrectly in the training data. "
   ]
  },
  {
   "cell_type": "code",
   "execution_count": null,
   "metadata": {},
   "outputs": [],
   "source": []
  }
 ],
 "metadata": {
  "kernelspec": {
   "display_name": "Python 3",
   "language": "python",
   "name": "python3"
  },
  "language_info": {
   "codemirror_mode": {
    "name": "ipython",
    "version": 3
   },
   "file_extension": ".py",
   "mimetype": "text/x-python",
   "name": "python",
   "nbconvert_exporter": "python",
   "pygments_lexer": "ipython3",
   "version": "3.6.3"
  }
 },
 "nbformat": 4,
 "nbformat_minor": 2
}
