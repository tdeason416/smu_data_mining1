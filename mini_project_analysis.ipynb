{
 "cells": [
  {
   "cell_type": "code",
   "execution_count": 1,
   "metadata": {
    "collapsed": true
   },
   "outputs": [],
   "source": [
    "import pandas as pd\n",
    "import numpy as np\n",
    "import matplotlib.pyplot as plt\n",
    "import seaborn as sns\n",
    "import re\n",
    "import scipy.stats as scs\n",
    "%matplotlib inline\n",
    "plt.style.use('ggplot')\n",
    "sns.set(style=\"whitegrid\", palette=\"pastel\", color_codes=True)\n",
    "\n",
    "import sys\n",
    "\n",
    "print(sys.stdout.encoding)"
   ]
  },
  {
   "cell_type": "markdown",
   "metadata": {},
   "source": [
    "Data Source:\n",
    "\n",
    "https://www.kaggle.com/kemical/kickstarter-projects"
   ]
  },
  {
   "cell_type": "markdown",
   "metadata": {},
   "source": [
    "## Still some more EDA stuff"
   ]
  },
  {
   "cell_type": "markdown",
   "metadata": {},
   "source": [
    "** In order to run this notebook, you must first navigate to the src folder within the github directory and run the PYTHON file extract_features.py** \n",
    "\n",
    "**This will create the file: '\"data_with_dummies_and_class.csv\" using \"imputed.csv\" as a basis**\n",
    "> **IT TAKES ABOUT 15 MIN TO RUN extract_features.py **"
   ]
  },
  {
   "cell_type": "code",
   "execution_count": null,
   "metadata": {},
   "outputs": [],
   "source": [
    "try:\n",
    "    data= pd.read_csv('data/data_with_dummies_and_class.csv')\n",
    "except FileNotFoundError:\n",
    "data = pd.read_csv(\"https://s3-us-west-2.amazonaws.com/twisk.us/data_with_dummies_and_class.csv\")\n",
    "    data.to_csv('data/data_with_dummies_and_class.csv')"
   ]
  },
  {
   "cell_type": "code",
   "execution_count": 165,
   "metadata": {},
   "outputs": [
    {
     "ename": "SyntaxError",
     "evalue": "unexpected EOF while parsing (<ipython-input-165-12c6edb04f3b>, line 4)",
     "output_type": "error",
     "traceback": [
      "\u001b[0;36m  File \u001b[0;32m\"<ipython-input-165-12c6edb04f3b>\"\u001b[0;36m, line \u001b[0;32m4\u001b[0m\n\u001b[0;31m    # data = data[[x for x in data.columns if \"Unnamed\" not in x]]\u001b[0m\n\u001b[0m                                                                  ^\u001b[0m\n\u001b[0;31mSyntaxError\u001b[0m\u001b[0;31m:\u001b[0m unexpected EOF while parsing\n"
     ]
    }
   ],
   "source": [
    "# data = data[[x for x in data.columns if \"Unnamed\" not in x]]"
   ]
  },
  {
   "cell_type": "code",
   "execution_count": 134,
   "metadata": {},
   "outputs": [],
   "source": [
    "unique_cols = list(set(x.split('&')[0] for x in data.columns))"
   ]
  },
  {
   "cell_type": "code",
   "execution_count": 135,
   "metadata": {},
   "outputs": [],
   "source": [
    "df_nocats = data[[x for x in data.columns if x.split('&')[0] != 'category']]"
   ]
  },
  {
   "cell_type": "code",
   "execution_count": 137,
   "metadata": {},
   "outputs": [],
   "source": [
    "def p_func(df):\n",
    "    ooot = {}\n",
    "    for col in df.columns:\n",
    "        if '$' in col:\n",
    "            value = ooot.get(col.split('$')[0], [])\n",
    "            ooot[col.split('$')[0]] = value + [col.split('$')[1]]\n",
    "        elif '&' in col:\n",
    "            value = ooot.get(col.split('&')[0], [])\n",
    "            ooot[col.split('&')[0]] = value + [col.split('&')[1]]\n",
    "        else: \n",
    "            ooot[col] = ''\n",
    "    return ooot"
   ]
  },
  {
   "cell_type": "code",
   "execution_count": 138,
   "metadata": {},
   "outputs": [
    {
     "name": "stdout",
     "output_type": "stream",
     "text": [
      "id\n",
      "backers\n",
      "usd_pledged_real\n",
      "usd_goal_real\n",
      "log_goal\n",
      "duration\n",
      "success\n",
      "log_backers\n",
      "log_usd_goal_real\n",
      "log_usd_pledged_real\n",
      "log_duration\n",
      "isUS\n",
      "name\n",
      "\t> word_count\n",
      "\t> punc_count\n",
      "\t> caps_count\n",
      "\t> possesive_count\n",
      "\t> noun_count\n",
      "\t> adj_count\n",
      "\t> verb_count\n",
      "\t> preposition_count\n",
      "\t> determinator_count\n",
      "main_category\n",
      "\t> Publishing\n",
      "\t> Film \n",
      "\t> Music\n",
      "\t> Food\n",
      "\t> Design\n",
      "\t> Crafts\n",
      "\t> Games\n",
      "\t> Comics\n",
      "\t> Fashion\n",
      "\t> Theater\n",
      "\t> Art\n",
      "\t> Photography\n",
      "\t> Technology\n",
      "\t> Dance\n",
      "\t> Journalism\n",
      "country\n",
      "\t> GB\n",
      "\t> US\n",
      "\t> CA\n",
      "\t> AU\n",
      "\t> NO\n",
      "\t> IT\n",
      "\t> DE\n",
      "\t> IE\n",
      "\t> MX\n",
      "\t> ES\n",
      "\t> N,0\"\n",
      "\t> SE\n",
      "\t> FR\n",
      "\t> NL\n",
      "\t> NZ\n",
      "\t> CH\n",
      "\t> AT\n",
      "\t> DK\n",
      "\t> BE\n",
      "\t> HK\n",
      "\t> LU\n",
      "\t> SG\n",
      "\t> JP\n",
      "currency\n",
      "\t> GBP\n",
      "\t> USD\n",
      "\t> CAD\n",
      "\t> AUD\n",
      "\t> NOK\n",
      "\t> EUR\n",
      "\t> MXN\n",
      "\t> SEK\n",
      "\t> NZD\n",
      "\t> CHF\n",
      "\t> DKK\n",
      "\t> HKD\n",
      "\t> SGD\n",
      "\t> JPY\n",
      "length\n",
      "deadline_month\n",
      "\t> Oct\n",
      "\t> Nov\n",
      "\t> Feb\n",
      "\t> Apr\n",
      "\t> Aug\n",
      "\t> Dec\n",
      "\t> Mar\n",
      "\t> May\n",
      "\t> Jun\n",
      "\t> Sep\n",
      "\t> Jan\n",
      "\t> Jul\n",
      "launched_month\n",
      "\t> Aug\n",
      "\t> Sep\n",
      "\t> Jan\n",
      "\t> Mar\n",
      "\t> Jul\n",
      "\t> Feb\n",
      "\t> Dec\n",
      "\t> Apr\n",
      "\t> Oct\n",
      "\t> May\n",
      "\t> Nov\n",
      "\t> Jun\n"
     ]
    }
   ],
   "source": [
    "for k,v in p_func(df_nocats).items():\n",
    "    print(k)\n",
    "    if type(v) is list:\n",
    "        for i in v:\n",
    "            print('\\t>', i)"
   ]
  },
  {
   "cell_type": "code",
   "execution_count": 139,
   "metadata": {},
   "outputs": [],
   "source": [
    "dff = df_nocats.drop('''country&N,0\"''',axis=1)"
   ]
  },
  {
   "cell_type": "code",
   "execution_count": 164,
   "metadata": {},
   "outputs": [
    {
     "name": "stdout",
     "output_type": "stream",
     "text": [
      "19\n"
     ]
    }
   ],
   "source": [
    "main_features = p_func(dff).keys()\n",
    "print(len(main_features))"
   ]
  },
  {
   "cell_type": "code",
   "execution_count": 140,
   "metadata": {
    "collapsed": true
   },
   "outputs": [],
   "source": [
    "from sklearn import linear_model as lm\n",
    "from sklearn import svm as svm"
   ]
  },
  {
   "cell_type": "code",
   "execution_count": 144,
   "metadata": {
    "collapsed": true
   },
   "outputs": [],
   "source": [
    "train_idx = np.random.random(dff.shape[0]) < .8\n",
    "test_idx = train_idx == False"
   ]
  },
  {
   "cell_type": "code",
   "execution_count": 155,
   "metadata": {},
   "outputs": [],
   "source": [
    "ytr = dff.iloc[train_idx].pop('success')\n",
    "yte = dff.iloc[test_idx].pop('success')"
   ]
  },
  {
   "cell_type": "code",
   "execution_count": 156,
   "metadata": {
    "collapsed": true
   },
   "outputs": [],
   "source": [
    "Xtr = dff.iloc[train_idx][[col for col in dff.columns if  col != 'success']]\n",
    "Xte = dff.iloc[test_idx][[col for col in dff.columns if  col != 'success']]"
   ]
  }
 ],
 "metadata": {
  "kernelspec": {
   "display_name": "Python 3",
   "language": "python",
   "name": "python3"
  },
  "language_info": {
   "codemirror_mode": {
    "name": "ipython",
    "version": 3
   },
   "file_extension": ".py",
   "mimetype": "text/x-python",
   "name": "python",
   "nbconvert_exporter": "python",
   "pygments_lexer": "ipython3",
   "version": "3.6.1"
  }
 },
 "nbformat": 4,
 "nbformat_minor": 2
}
